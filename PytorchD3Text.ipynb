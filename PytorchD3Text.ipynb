{
  "nbformat": 4,
  "nbformat_minor": 0,
  "metadata": {
    "colab": {
      "provenance": [],
      "gpuType": "T4",
      "authorship_tag": "ABX9TyPEsrRg4HGN1oKGFs1guEjK",
      "include_colab_link": true
    },
    "kernelspec": {
      "name": "python3",
      "display_name": "Python 3"
    },
    "language_info": {
      "name": "python"
    },
    "accelerator": "GPU"
  },
  "cells": [
    {
      "cell_type": "markdown",
      "metadata": {
        "id": "view-in-github",
        "colab_type": "text"
      },
      "source": [
        "<a href=\"https://colab.research.google.com/github/Surya-0804/Pytorch/blob/main/PytorchD3Text.ipynb\" target=\"_parent\"><img src=\"https://colab.research.google.com/assets/colab-badge.svg\" alt=\"Open In Colab\"/></a>"
      ]
    },
    {
      "cell_type": "code",
      "execution_count": null,
      "metadata": {
        "id": "Pt_AnfX1ousi"
      },
      "outputs": [],
      "source": [
        "import torch\n",
        "from torch import nn\n",
        "import torch.nn.functional as F\n",
        "from torch.autograd import Variable\n",
        "from itertools import islice"
      ]
    },
    {
      "cell_type": "code",
      "source": [
        "with open('/content/SampleTrain.txt', \"r\", encoding='utf-8') as f:\n",
        "    text = f.read()"
      ],
      "metadata": {
        "id": "kXI-pVZCpnmB"
      },
      "execution_count": null,
      "outputs": []
    },
    {
      "cell_type": "code",
      "source": [
        "len(text)"
      ],
      "metadata": {
        "id": "y0DeE9CWpqzI",
        "colab": {
          "base_uri": "https://localhost:8080/"
        },
        "outputId": "e17c03a2-56d9-4fbf-adba-6f5556a51dac"
      },
      "execution_count": null,
      "outputs": [
        {
          "output_type": "execute_result",
          "data": {
            "text/plain": [
              "637775"
            ]
          },
          "metadata": {},
          "execution_count": 3
        }
      ]
    },
    {
      "cell_type": "code",
      "source": [
        "import nltk\n",
        "nltk.download('punkt')"
      ],
      "metadata": {
        "id": "hGQJUGnJM4Qs",
        "colab": {
          "base_uri": "https://localhost:8080/"
        },
        "outputId": "a56a6e11-2d1c-40a8-f4eb-dc19acc57c22"
      },
      "execution_count": null,
      "outputs": [
        {
          "output_type": "stream",
          "name": "stderr",
          "text": [
            "[nltk_data] Downloading package punkt to /root/nltk_data...\n",
            "[nltk_data]   Unzipping tokenizers/punkt.zip.\n"
          ]
        },
        {
          "output_type": "execute_result",
          "data": {
            "text/plain": [
              "True"
            ]
          },
          "metadata": {},
          "execution_count": 4
        }
      ]
    },
    {
      "cell_type": "code",
      "source": [
        "from nltk.tokenize import word_tokenize"
      ],
      "metadata": {
        "id": "yVyHfHKeM6R_"
      },
      "execution_count": null,
      "outputs": []
    },
    {
      "cell_type": "code",
      "source": [
        "tokens = word_tokenize(text)"
      ],
      "metadata": {
        "id": "MaBXqqprM6vp"
      },
      "execution_count": null,
      "outputs": []
    },
    {
      "cell_type": "code",
      "source": [
        "len(tokens)"
      ],
      "metadata": {
        "id": "MaBWpx5IM64P",
        "colab": {
          "base_uri": "https://localhost:8080/"
        },
        "outputId": "3b645492-4094-4d2b-fd1a-23caa52f61ad"
      },
      "execution_count": null,
      "outputs": [
        {
          "output_type": "execute_result",
          "data": {
            "text/plain": [
              "129762"
            ]
          },
          "metadata": {},
          "execution_count": 7
        }
      ]
    },
    {
      "cell_type": "code",
      "source": [
        "vocab = sorted(set(tokens))"
      ],
      "metadata": {
        "id": "sJVXsddXNMZ1"
      },
      "execution_count": null,
      "outputs": []
    },
    {
      "cell_type": "code",
      "source": [
        "len(vocab)"
      ],
      "metadata": {
        "id": "pIuyQe07NOJb",
        "colab": {
          "base_uri": "https://localhost:8080/"
        },
        "outputId": "7a14e4b8-54ca-425c-fa95-088ef1aedbcf"
      },
      "execution_count": null,
      "outputs": [
        {
          "output_type": "execute_result",
          "data": {
            "text/plain": [
              "10712"
            ]
          },
          "metadata": {},
          "execution_count": 9
        }
      ]
    },
    {
      "cell_type": "code",
      "source": [
        "vocab = [\"<PAD>\", \"<UNK>\"] + vocab"
      ],
      "metadata": {
        "id": "z1x4FGUFNP2Z"
      },
      "execution_count": null,
      "outputs": []
    },
    {
      "cell_type": "code",
      "source": [
        "len(vocab)"
      ],
      "metadata": {
        "id": "CF7HQWDZNRe6",
        "colab": {
          "base_uri": "https://localhost:8080/"
        },
        "outputId": "94c7ab39-2360-470f-83d3-fa7c75e310c4"
      },
      "execution_count": null,
      "outputs": [
        {
          "output_type": "execute_result",
          "data": {
            "text/plain": [
              "10714"
            ]
          },
          "metadata": {},
          "execution_count": 11
        }
      ]
    },
    {
      "cell_type": "code",
      "source": [
        "vocab[:10]"
      ],
      "metadata": {
        "id": "QcSh69UuNTa_",
        "colab": {
          "base_uri": "https://localhost:8080/"
        },
        "outputId": "a2974067-0df1-4075-be0f-48fd798f3b1d"
      },
      "execution_count": null,
      "outputs": [
        {
          "output_type": "execute_result",
          "data": {
            "text/plain": [
              "['<PAD>', '<UNK>', '!', '#', '$', '%', '(', ')', '*', ',']"
            ]
          },
          "metadata": {},
          "execution_count": 12
        }
      ]
    },
    {
      "cell_type": "code",
      "source": [
        "context_size = 5\n",
        "import random"
      ],
      "metadata": {
        "id": "FRbIdDLkNTgA"
      },
      "execution_count": null,
      "outputs": []
    },
    {
      "cell_type": "code",
      "source": [
        "start = random.randint(0, len(tokens)-context_size)"
      ],
      "metadata": {
        "id": "XejZprd7NToi"
      },
      "execution_count": null,
      "outputs": []
    },
    {
      "cell_type": "code",
      "source": [
        "tokens[start:start+context_size]"
      ],
      "metadata": {
        "id": "G9V2RqlxNYHz",
        "colab": {
          "base_uri": "https://localhost:8080/"
        },
        "outputId": "9878b310-7560-4970-d73e-5e371fbf1e26"
      },
      "execution_count": null,
      "outputs": [
        {
          "output_type": "execute_result",
          "data": {
            "text/plain": [
              "['and', 'health', '.', 'I', 'had']"
            ]
          },
          "metadata": {},
          "execution_count": 15
        }
      ]
    },
    {
      "cell_type": "code",
      "source": [
        "tokens[start + context_size]"
      ],
      "metadata": {
        "id": "fKpzXnRRNb6U",
        "colab": {
          "base_uri": "https://localhost:8080/",
          "height": 36
        },
        "outputId": "9d511478-815b-491b-f0b1-8b2e8ad87844"
      },
      "execution_count": null,
      "outputs": [
        {
          "output_type": "execute_result",
          "data": {
            "text/plain": [
              "'desired'"
            ],
            "application/vnd.google.colaboratory.intrinsic+json": {
              "type": "string"
            }
          },
          "metadata": {},
          "execution_count": 16
        }
      ]
    },
    {
      "cell_type": "code",
      "source": [
        "# Assuming \"tokens\" is your tokenized text\n",
        "token_to_idx = {token: idx for idx, token in enumerate(vocab)}\n",
        "\n",
        "# Now you can convert your tokens to indices\n",
        "tokens_idx = [token_to_idx[token] for token in tokens]"
      ],
      "metadata": {
        "id": "X9ekS5CMNeJm"
      },
      "execution_count": null,
      "outputs": []
    },
    {
      "cell_type": "code",
      "source": [
        "from torch.utils.data import Dataset, DataLoader\n",
        "from torch.utils.data.dataset import random_split\n",
        "import torch\n",
        "\n",
        "class TextNgramDataset(Dataset):\n",
        "  def __init__(self, data, n):\n",
        "    self.data = data\n",
        "    self.n = n\n",
        "\n",
        "  def __len__(self):\n",
        "    return len(self.data) - self.n\n",
        "\n",
        "  def __getitem__(self, index):\n",
        "    return (self.data[index: index+self.n], self.data[self.n + index])\n",
        "\n",
        "CONTEXT_SIZE = 5  # this is your n-gram size\n",
        "\n",
        "dataset = TextNgramDataset(tokens_idx, CONTEXT_SIZE)\n",
        "\n",
        "train_size = int(0.8 * len(dataset))  # 80% for training\n",
        "test_size = len(dataset) - train_size  # 20% for testing\n",
        "\n",
        "train_dataset, test_dataset = random_split(dataset, [train_size, test_size])\n",
        "\n",
        "# Define batch size\n",
        "batch_size = 32\n",
        "\n",
        "def collate_fn(batch):\n",
        "    sequences = [item[0] for item in batch]\n",
        "    targets = [item[1] for item in batch]\n",
        "\n",
        "    # Convert the lists to tensors\n",
        "    sequences = torch.tensor(sequences, dtype=torch.long)\n",
        "    targets = torch.tensor(targets, dtype=torch.long)\n",
        "\n",
        "    return sequences, targets\n",
        "\n",
        "# Create dataloaders\n",
        "train_dataloader = DataLoader(train_dataset, batch_size=32, shuffle=True, collate_fn=collate_fn)\n",
        "test_dataloader = DataLoader(test_dataset, batch_size=32, shuffle=False, collate_fn=collate_fn)"
      ],
      "metadata": {
        "id": "SLiql4E0NguL"
      },
      "execution_count": null,
      "outputs": []
    },
    {
      "cell_type": "code",
      "source": [
        "x, y = next(iter(train_dataloader))"
      ],
      "metadata": {
        "id": "2FemALeNNhlu"
      },
      "execution_count": null,
      "outputs": []
    },
    {
      "cell_type": "code",
      "source": [
        "x.shape"
      ],
      "metadata": {
        "id": "huYrJrFtNkdQ",
        "colab": {
          "base_uri": "https://localhost:8080/"
        },
        "outputId": "03b4abc6-b1d9-4333-a54c-075bbc7af0c3"
      },
      "execution_count": null,
      "outputs": [
        {
          "output_type": "execute_result",
          "data": {
            "text/plain": [
              "torch.Size([32, 5])"
            ]
          },
          "metadata": {},
          "execution_count": 20
        }
      ]
    },
    {
      "cell_type": "code",
      "source": [
        "y.shape"
      ],
      "metadata": {
        "id": "4n1oWa6MNmtC",
        "colab": {
          "base_uri": "https://localhost:8080/"
        },
        "outputId": "f7d54f03-da87-48fe-d72f-4754c308293e"
      },
      "execution_count": null,
      "outputs": [
        {
          "output_type": "execute_result",
          "data": {
            "text/plain": [
              "torch.Size([32])"
            ]
          },
          "metadata": {},
          "execution_count": 21
        }
      ]
    },
    {
      "cell_type": "code",
      "source": [
        "import torch.optim as optim\n",
        "import matplotlib.pyplot as plt\n",
        "import torch.nn as nn\n",
        "\n",
        "class NGramLanguageModel(nn.Module):\n",
        "    def __init__(self, vocab_size, embedding_dim, context_size, hidden_size=32):\n",
        "        super(NGramLanguageModel, self).__init__()\n",
        "        self.embeddings = nn.Embedding(vocab_size, embedding_dim) # B,C,V => B,C,D\n",
        "        self.linear1 = nn.Linear(context_size * embedding_dim, hidden_size) #CxD -> 128\n",
        "        self.linear2 = nn.Linear(hidden_size, vocab_size) # 128 -> V\n",
        "        self.lnorm = nn.LayerNorm(hidden_size)\n",
        "\n",
        "    def forward(self, inputs):\n",
        "        embeds = self.embeddings(inputs).view((inputs.shape[0], -1)) #B, C*D\n",
        "        out = F.relu(self.lnorm(self.linear1(embeds)))\n",
        "        out = self.linear2(out)\n",
        "        log_probs = F.log_softmax(out, dim=1)\n",
        "        return log_probs"
      ],
      "metadata": {
        "id": "qn0Of_uNNoh8"
      },
      "execution_count": null,
      "outputs": []
    },
    {
      "cell_type": "code",
      "source": [
        "VOCAB_SIZE = len(vocab)\n",
        "EMBEDDING_DIM = 20\n",
        "\n",
        "model = NGramLanguageModel(VOCAB_SIZE, EMBEDDING_DIM, CONTEXT_SIZE)\n",
        "criterion = nn.NLLLoss()\n",
        "optimizer = optim.AdamW(model.parameters(), lr=0.01, weight_decay=0.001)\n",
        "#optimizer = optim.SGD(model.parameters(), lr=0.001)\n",
        "\n",
        "device = torch.device('cuda' if torch.cuda.is_available() else 'cpu')\n",
        "model = model.to(device)"
      ],
      "metadata": {
        "id": "D-tRSWSrNqU9"
      },
      "execution_count": null,
      "outputs": []
    },
    {
      "cell_type": "code",
      "source": [
        "import numpy as np\n",
        "\n",
        "num_epochs = 50\n",
        "\n",
        "# initialize the losses\n",
        "train_losses = []\n",
        "test_losses = []\n",
        "\n",
        "# Training loop\n",
        "for epoch in range(num_epochs):\n",
        "    model.train()  # set the model to training mode\n",
        "    total_train_loss = 0\n",
        "    for context, target in train_dataloader:\n",
        "\n",
        "        # Preparing the inputs and targets\n",
        "        context_idxs = context.to(device)\n",
        "        target = target.to(device)\n",
        "\n",
        "        # Resetting the gradients\n",
        "        model.zero_grad()\n",
        "\n",
        "        # Forward pass\n",
        "        log_probs = model(context_idxs)\n",
        "\n",
        "        # Calculating loss\n",
        "        loss = criterion(log_probs, target)\n",
        "\n",
        "        # Backward pass\n",
        "        loss.backward()\n",
        "\n",
        "        # Optimizer step\n",
        "        optimizer.step()\n",
        "\n",
        "        # Update total_loss\n",
        "        total_train_loss += loss.item()\n",
        "\n",
        "    train_losses.append(total_train_loss)\n",
        "\n",
        "    # Test phase\n",
        "    model.eval()  # set the model to eval mode\n",
        "    total_test_loss = 0\n",
        "    with torch.no_grad():\n",
        "        for context, target in test_dataloader:\n",
        "            context_idxs = context.to(device)\n",
        "            target = target.to(device)\n",
        "\n",
        "            # Forward pass\n",
        "            log_probs = model(context_idxs)\n",
        "\n",
        "            # Calculating loss\n",
        "            loss = criterion(log_probs, target)\n",
        "\n",
        "            # Update total_loss\n",
        "            total_test_loss += loss.item()\n",
        "\n",
        "    test_losses.append(total_test_loss)\n",
        "\n",
        "    print(f\"Epoch: {epoch}, Training Loss: {total_train_loss}, Test Loss: {total_test_loss}\")\n",
        "\n",
        "# Plotting the train and test loss per epoch\n",
        "plt.plot(train_losses, label='Train Loss')\n",
        "plt.plot(test_losses, label='Test Loss')\n",
        "plt.xlabel('Epoch')\n",
        "plt.ylabel('Loss')\n",
        "plt.title('Training and Test Loss per Epoch')\n",
        "plt.grid(True)\n",
        "plt.legend()\n",
        "plt.show()\n"
      ],
      "metadata": {
        "id": "m-M18YLmNsIL",
        "colab": {
          "base_uri": "https://localhost:8080/",
          "height": 1000
        },
        "outputId": "703b843d-c860-4384-bdfa-616be9524663"
      },
      "execution_count": null,
      "outputs": [
        {
          "output_type": "stream",
          "name": "stdout",
          "text": [
            "Epoch: 0, Training Loss: 20391.329701423645, Test Loss: 4898.631054878235\n",
            "Epoch: 1, Training Loss: 18092.97697329521, Test Loss: 4833.29771566391\n",
            "Epoch: 2, Training Loss: 16849.887517929077, Test Loss: 4979.082851648331\n",
            "Epoch: 3, Training Loss: 15899.128511428833, Test Loss: 5246.529784440994\n",
            "Epoch: 4, Training Loss: 15144.812627077103, Test Loss: 5486.367367744446\n",
            "Epoch: 5, Training Loss: 14555.390193462372, Test Loss: 5841.455601453781\n",
            "Epoch: 6, Training Loss: 14100.266463279724, Test Loss: 6058.9039397239685\n",
            "Epoch: 7, Training Loss: 13736.070514917374, Test Loss: 6385.922229766846\n",
            "Epoch: 8, Training Loss: 13435.316470861435, Test Loss: 6662.723572254181\n",
            "Epoch: 9, Training Loss: 13193.619974374771, Test Loss: 6654.81173992157\n",
            "Epoch: 10, Training Loss: 13009.02062010765, Test Loss: 6799.211852550507\n",
            "Epoch: 11, Training Loss: 12818.081438064575, Test Loss: 7171.329952716827\n",
            "Epoch: 12, Training Loss: 12670.701811552048, Test Loss: 7271.298700809479\n",
            "Epoch: 13, Training Loss: 12547.558323144913, Test Loss: 7262.895746231079\n",
            "Epoch: 14, Training Loss: 12419.88963842392, Test Loss: 7531.295413970947\n",
            "Epoch: 15, Training Loss: 12322.366424798965, Test Loss: 7681.04324388504\n",
            "Epoch: 16, Training Loss: 12236.364361763, Test Loss: 7789.366664886475\n",
            "Epoch: 17, Training Loss: 12150.414251089096, Test Loss: 7945.212436199188\n",
            "Epoch: 18, Training Loss: 12074.046836614609, Test Loss: 7746.0665583610535\n",
            "Epoch: 19, Training Loss: 12008.435982227325, Test Loss: 8014.635461330414\n",
            "Epoch: 20, Training Loss: 11936.665877342224, Test Loss: 8290.479991436005\n",
            "Epoch: 21, Training Loss: 11893.727328062057, Test Loss: 8252.504243850708\n",
            "Epoch: 22, Training Loss: 11830.634562969208, Test Loss: 8377.073680400848\n",
            "Epoch: 23, Training Loss: 11782.401171207428, Test Loss: 8562.044845104218\n",
            "Epoch: 24, Training Loss: 11748.126608848572, Test Loss: 8316.8033618927\n",
            "Epoch: 25, Training Loss: 11683.835003852844, Test Loss: 8673.846574306488\n",
            "Epoch: 26, Training Loss: 11658.617643356323, Test Loss: 8512.692934513092\n",
            "Epoch: 27, Training Loss: 11623.38555920124, Test Loss: 8596.196941375732\n",
            "Epoch: 28, Training Loss: 11582.787294864655, Test Loss: 8747.166280269623\n",
            "Epoch: 29, Training Loss: 11541.915659070015, Test Loss: 8812.82998752594\n",
            "Epoch: 30, Training Loss: 11515.031804800034, Test Loss: 8917.42592048645\n",
            "Epoch: 31, Training Loss: 11488.130847334862, Test Loss: 8773.33735704422\n",
            "Epoch: 32, Training Loss: 11462.839867830276, Test Loss: 8943.572429180145\n",
            "Epoch: 33, Training Loss: 11445.059633493423, Test Loss: 9007.680338859558\n",
            "Epoch: 34, Training Loss: 11426.084748744965, Test Loss: 8915.42643737793\n",
            "Epoch: 35, Training Loss: 11402.019925951958, Test Loss: 9212.858932495117\n",
            "Epoch: 36, Training Loss: 11356.833091974258, Test Loss: 8956.460000514984\n",
            "Epoch: 37, Training Loss: 11347.41162109375, Test Loss: 9296.665652751923\n",
            "Epoch: 38, Training Loss: 11334.049669265747, Test Loss: 9136.264347553253\n",
            "Epoch: 39, Training Loss: 11306.489516496658, Test Loss: 9079.708209514618\n",
            "Epoch: 40, Training Loss: 11294.297847032547, Test Loss: 9221.681120872498\n",
            "Epoch: 41, Training Loss: 11275.537011027336, Test Loss: 9224.905601024628\n",
            "Epoch: 42, Training Loss: 11258.635699748993, Test Loss: 9247.680432319641\n",
            "Epoch: 43, Training Loss: 11250.557985067368, Test Loss: 9360.168738365173\n",
            "Epoch: 44, Training Loss: 11234.994737386703, Test Loss: 9320.410745620728\n",
            "Epoch: 45, Training Loss: 11217.825577616692, Test Loss: 9196.472363471985\n",
            "Epoch: 46, Training Loss: 11206.76557803154, Test Loss: 9514.927144050598\n",
            "Epoch: 47, Training Loss: 11201.089359045029, Test Loss: 9492.111695289612\n",
            "Epoch: 48, Training Loss: 11179.869647979736, Test Loss: 9464.73622226715\n",
            "Epoch: 49, Training Loss: 11177.267899274826, Test Loss: 9516.400996208191\n"
          ]
        },
        {
          "output_type": "display_data",
          "data": {
            "text/plain": [
              "<Figure size 640x480 with 1 Axes>"
            ],
            "image/png": "[encoded data removed]"
          },
          "metadata": {}
        }
      ]
    },
    {
      "cell_type": "code",
      "source": [
        "# Assuming \"tokens\" is your tokenized text\n",
        "idx_to_token = {idx: token for idx, token in enumerate(vocab)}\n",
        "k = 5\n",
        "def generate_text(model, start_text, generate_length=100):\n",
        "    words = word_tokenize(start_text)\n",
        "    model.eval()  # put the model in evaluation mode\n",
        "\n",
        "    for i in range(generate_length):\n",
        "        # Create a tensor for the current sequence of words (removing the first word if the length is over the context size)\n",
        "        input_sequence = torch.tensor([token_to_idx[word] for word in words[-CONTEXT_SIZE:]], dtype=torch.long).unsqueeze(0).to(device)\n",
        "\n",
        "        # Predict the next word using the current sequence, and get the last word of the output\n",
        "        with torch.no_grad():\n",
        "            #prediction = model(input_sequence).argmax(dim=1).item()\n",
        "            probabilities = torch.nn.functional.softmax(model(input_sequence), dim=1)\n",
        "            top_probs, top_indices = probabilities.topk(k)\n",
        "\n",
        "            # Make sure they're 1-D lists\n",
        "            top_probs = top_probs.squeeze()\n",
        "            top_indices = top_indices.squeeze()\n",
        "\n",
        "            # Choose one of the top k predicted words randomly as per their probabilities\n",
        "            choice = random.choices(top_indices.tolist(), weights=top_probs.tolist(), k=1)[0]\n",
        "            next_word = idx_to_token[choice]\n",
        "            #next_word = idx_to_token[prediction]\n",
        "\n",
        "        # Add the predicted word to the sequence\n",
        "        words.append(next_word)\n",
        "    return ' '.join(words)\n",
        "\n",
        "start_text = \"Today is a beautiful day\"\n",
        "print(generate_text(model, start_text))"
      ],
      "metadata": {
        "id": "6HrdM_3eNuTs",
        "colab": {
          "base_uri": "https://localhost:8080/",
          "height": 339
        },
        "outputId": "ce49a49a-613c-44e4-d6bf-6991fc2213d5"
      },
      "execution_count": null,
      "outputs": [
        {
          "output_type": "error",
          "ename": "NameError",
          "evalue": "name 'UNK_TOKEN' is not defined",
          "traceback": [
            "\u001b[0;31m---------------------------------------------------------------------------\u001b[0m",
            "\u001b[0;31mNameError\u001b[0m                                 Traceback (most recent call last)",
            "\u001b[0;32m<ipython-input-30-ee8a07b4b919>\u001b[0m in \u001b[0;36m<cell line: 32>\u001b[0;34m()\u001b[0m\n\u001b[1;32m     30\u001b[0m \u001b[0;34m\u001b[0m\u001b[0m\n\u001b[1;32m     31\u001b[0m \u001b[0mstart_text\u001b[0m \u001b[0;34m=\u001b[0m \u001b[0;34m\"Today is a beautiful day\"\u001b[0m\u001b[0;34m\u001b[0m\u001b[0;34m\u001b[0m\u001b[0m\n\u001b[0;32m---> 32\u001b[0;31m \u001b[0mprint\u001b[0m\u001b[0;34m(\u001b[0m\u001b[0mgenerate_text\u001b[0m\u001b[0;34m(\u001b[0m\u001b[0mmodel\u001b[0m\u001b[0;34m,\u001b[0m \u001b[0mstart_text\u001b[0m\u001b[0;34m)\u001b[0m\u001b[0;34m)\u001b[0m\u001b[0;34m\u001b[0m\u001b[0;34m\u001b[0m\u001b[0m\n\u001b[0m",
            "\u001b[0;32m<ipython-input-30-ee8a07b4b919>\u001b[0m in \u001b[0;36mgenerate_text\u001b[0;34m(model, start_text, generate_length)\u001b[0m\n\u001b[1;32m      8\u001b[0m     \u001b[0;32mfor\u001b[0m \u001b[0mi\u001b[0m \u001b[0;32min\u001b[0m \u001b[0mrange\u001b[0m\u001b[0;34m(\u001b[0m\u001b[0mgenerate_length\u001b[0m\u001b[0;34m)\u001b[0m\u001b[0;34m:\u001b[0m\u001b[0;34m\u001b[0m\u001b[0;34m\u001b[0m\u001b[0m\n\u001b[1;32m      9\u001b[0m         \u001b[0;31m# Create a tensor for the current sequence of words (removing the first word if the length is over the context size)\u001b[0m\u001b[0;34m\u001b[0m\u001b[0;34m\u001b[0m\u001b[0m\n\u001b[0;32m---> 10\u001b[0;31m         \u001b[0minput_sequence\u001b[0m \u001b[0;34m=\u001b[0m \u001b[0mtorch\u001b[0m\u001b[0;34m.\u001b[0m\u001b[0mtensor\u001b[0m\u001b[0;34m(\u001b[0m\u001b[0;34m[\u001b[0m\u001b[0mtoken_to_idx\u001b[0m\u001b[0;34m.\u001b[0m\u001b[0mget\u001b[0m\u001b[0;34m(\u001b[0m\u001b[0mword\u001b[0m\u001b[0;34m,\u001b[0m \u001b[0mtoken_to_idx\u001b[0m\u001b[0;34m[\u001b[0m\u001b[0mUNK_TOKEN\u001b[0m\u001b[0;34m]\u001b[0m\u001b[0;34m)\u001b[0m \u001b[0;32mfor\u001b[0m \u001b[0mword\u001b[0m \u001b[0;32min\u001b[0m \u001b[0mwords\u001b[0m\u001b[0;34m[\u001b[0m\u001b[0;34m-\u001b[0m\u001b[0mCONTEXT_SIZE\u001b[0m\u001b[0;34m:\u001b[0m\u001b[0;34m]\u001b[0m\u001b[0;34m]\u001b[0m\u001b[0;34m,\u001b[0m \u001b[0mdtype\u001b[0m\u001b[0;34m=\u001b[0m\u001b[0mtorch\u001b[0m\u001b[0;34m.\u001b[0m\u001b[0mlong\u001b[0m\u001b[0;34m)\u001b[0m\u001b[0;34m.\u001b[0m\u001b[0munsqueeze\u001b[0m\u001b[0;34m(\u001b[0m\u001b[0;36m0\u001b[0m\u001b[0;34m)\u001b[0m\u001b[0;34m.\u001b[0m\u001b[0mto\u001b[0m\u001b[0;34m(\u001b[0m\u001b[0mdevice\u001b[0m\u001b[0;34m)\u001b[0m\u001b[0;34m\u001b[0m\u001b[0;34m\u001b[0m\u001b[0m\n\u001b[0m\u001b[1;32m     11\u001b[0m \u001b[0;34m\u001b[0m\u001b[0m\n\u001b[1;32m     12\u001b[0m         \u001b[0;31m# Predict the next word using the current sequence, and get the last word of the output\u001b[0m\u001b[0;34m\u001b[0m\u001b[0;34m\u001b[0m\u001b[0m\n",
            "\u001b[0;32m<ipython-input-30-ee8a07b4b919>\u001b[0m in \u001b[0;36m<listcomp>\u001b[0;34m(.0)\u001b[0m\n\u001b[1;32m      8\u001b[0m     \u001b[0;32mfor\u001b[0m \u001b[0mi\u001b[0m \u001b[0;32min\u001b[0m \u001b[0mrange\u001b[0m\u001b[0;34m(\u001b[0m\u001b[0mgenerate_length\u001b[0m\u001b[0;34m)\u001b[0m\u001b[0;34m:\u001b[0m\u001b[0;34m\u001b[0m\u001b[0;34m\u001b[0m\u001b[0m\n\u001b[1;32m      9\u001b[0m         \u001b[0;31m# Create a tensor for the current sequence of words (removing the first word if the length is over the context size)\u001b[0m\u001b[0;34m\u001b[0m\u001b[0;34m\u001b[0m\u001b[0m\n\u001b[0;32m---> 10\u001b[0;31m         \u001b[0minput_sequence\u001b[0m \u001b[0;34m=\u001b[0m \u001b[0mtorch\u001b[0m\u001b[0;34m.\u001b[0m\u001b[0mtensor\u001b[0m\u001b[0;34m(\u001b[0m\u001b[0;34m[\u001b[0m\u001b[0mtoken_to_idx\u001b[0m\u001b[0;34m.\u001b[0m\u001b[0mget\u001b[0m\u001b[0;34m(\u001b[0m\u001b[0mword\u001b[0m\u001b[0;34m,\u001b[0m \u001b[0mtoken_to_idx\u001b[0m\u001b[0;34m[\u001b[0m\u001b[0mUNK_TOKEN\u001b[0m\u001b[0;34m]\u001b[0m\u001b[0;34m)\u001b[0m \u001b[0;32mfor\u001b[0m \u001b[0mword\u001b[0m \u001b[0;32min\u001b[0m \u001b[0mwords\u001b[0m\u001b[0;34m[\u001b[0m\u001b[0;34m-\u001b[0m\u001b[0mCONTEXT_SIZE\u001b[0m\u001b[0;34m:\u001b[0m\u001b[0;34m]\u001b[0m\u001b[0;34m]\u001b[0m\u001b[0;34m,\u001b[0m \u001b[0mdtype\u001b[0m\u001b[0;34m=\u001b[0m\u001b[0mtorch\u001b[0m\u001b[0;34m.\u001b[0m\u001b[0mlong\u001b[0m\u001b[0;34m)\u001b[0m\u001b[0;34m.\u001b[0m\u001b[0munsqueeze\u001b[0m\u001b[0;34m(\u001b[0m\u001b[0;36m0\u001b[0m\u001b[0;34m)\u001b[0m\u001b[0;34m.\u001b[0m\u001b[0mto\u001b[0m\u001b[0;34m(\u001b[0m\u001b[0mdevice\u001b[0m\u001b[0;34m)\u001b[0m\u001b[0;34m\u001b[0m\u001b[0;34m\u001b[0m\u001b[0m\n\u001b[0m\u001b[1;32m     11\u001b[0m \u001b[0;34m\u001b[0m\u001b[0m\n\u001b[1;32m     12\u001b[0m         \u001b[0;31m# Predict the next word using the current sequence, and get the last word of the output\u001b[0m\u001b[0;34m\u001b[0m\u001b[0;34m\u001b[0m\u001b[0m\n",
            "\u001b[0;31mNameError\u001b[0m: name 'UNK_TOKEN' is not defined"
          ]
        }
      ]
    },
    {
      "cell_type": "code",
      "source": [
        "import nltk\n",
        "\n",
        "# Tokenize your text into sentences\n",
        "sentences = nltk.tokenize.sent_tokenize(text)\n",
        "# Tokenize each sentence into words and convert to indexes.\n",
        "# We assume that the `token_to_idx` dict maps each token to its corresponding index\n",
        "indexed_sentences = []\n",
        "for sentence in sentences:\n",
        "    tokens = nltk.tokenize.word_tokenize(sentence)\n",
        "    indexed_tokens = [token_to_idx.get(token, token_to_idx['<UNK>']) for token in tokens] # use the index of '<UNK>' for unknown tokens\n",
        "    indexed_sentences.append(indexed_tokens)"
      ],
      "metadata": {
        "id": "FTqXX8-8Nwt0"
      },
      "execution_count": null,
      "outputs": []
    },
    {
      "cell_type": "code",
      "source": [
        "len(indexed_sentences)"
      ],
      "metadata": {
        "id": "6cBKNHQVNzmx"
      },
      "execution_count": null,
      "outputs": []
    },
    {
      "cell_type": "code",
      "source": [
        "len(sentences)"
      ],
      "metadata": {
        "id": "sKj4TYt1N0Hh"
      },
      "execution_count": null,
      "outputs": []
    },
    {
      "cell_type": "code",
      "source": [
        "sentences[100]"
      ],
      "metadata": {
        "id": "pZ4HCTQmN3An"
      },
      "execution_count": null,
      "outputs": []
    },
    {
      "cell_type": "code",
      "source": [
        "indexed_sentences[100]"
      ],
      "metadata": {
        "id": "7BJVSci3N4zO"
      },
      "execution_count": null,
      "outputs": []
    },
    {
      "cell_type": "code",
      "source": [
        "from torch.nn.utils.rnn import pad_sequence\n",
        "from torch.utils.data import Dataset, DataLoader\n",
        "from torch.utils.data.dataset import random_split\n",
        "import torch\n",
        "import random\n",
        "\n",
        "class TextSequenceDataset(Dataset):\n",
        "    def __init__(self, data):\n",
        "        self.data = data\n",
        "\n",
        "    def __len__(self):\n",
        "        return len(self.data)\n",
        "\n",
        "    def __getitem__(self, idx):\n",
        "        return torch.tensor(self.data[idx][:-1]), torch.tensor(self.data[idx][1:])\n",
        "\n",
        "def collate_fn(batch):\n",
        "    inputs = [item[0] for item in batch]\n",
        "    targets                                                     = [item[1] for item in batch]\n",
        "\n",
        "    # Pad sequences in the same batch, pad_value defaults to 0\n",
        "    # However, this assumes that your tokenization process turns the padding element (usually \"<pad>\") into 0.\n",
        "    inputs = pad_sequence(inputs, batch_first=True, padding_value=token_to_idx[\"<PAD>\"])\n",
        "    targets = pad_sequence(targets, batch_first=True, padding_value=token_to_idx[\"<PAD>\"])\n",
        "\n",
        "    return inputs, targets\n",
        "\n",
        "# Assume `sentences` is a list of lists, where each inner list contains the indexes (tokens) of a sentence\n",
        "dataset = TextSequenceDataset(indexed_sentences)\n",
        "\n",
        "train_size = int(0.8 * len(dataset))\n",
        "test_size = len(dataset) - train_size\n",
        "\n",
        "train_dataset, test_dataset = random_split(dataset, [train_size, test_size])\n",
        "\n",
        "train_dataloader = DataLoader(train_dataset, batch_size=32, shuffle=True, collate_fn=collate_fn)\n",
        "test_dataloader = DataLoader(test_dataset, batch_size=32, shuffle=False, collate_fn=collate_fn)\n"
      ],
      "metadata": {
        "id": "0_TkF1gEN6vP"
      },
      "execution_count": null,
      "outputs": []
    },
    {
      "cell_type": "code",
      "source": [
        "x, y = next(iter(test_dataloader))"
      ],
      "metadata": {
        "id": "Tx3yCrf_N8ku"
      },
      "execution_count": null,
      "outputs": []
    },
    {
      "cell_type": "code",
      "source": [
        "x.shape"
      ],
      "metadata": {
        "id": "N6VZ_oDCN-Rb"
      },
      "execution_count": null,
      "outputs": []
    },
    {
      "cell_type": "code",
      "source": [
        "x[0]"
      ],
      "metadata": {
        "id": "DDTK3NlNOADY"
      },
      "execution_count": null,
      "outputs": []
    },
    {
      "cell_type": "code",
      "source": [
        "y.shape"
      ],
      "metadata": {
        "id": "adG7ZXB6OBt3"
      },
      "execution_count": null,
      "outputs": []
    },
    {
      "cell_type": "code",
      "source": [
        "y[0]"
      ],
      "metadata": {
        "id": "008Eabh6OEJT"
      },
      "execution_count": null,
      "outputs": []
    },
    {
      "cell_type": "code",
      "source": [
        "class LSTMModel(nn.Module):\n",
        "    def __init__(self, vocab_size, embedding_dim, hidden_dim, num_layers, dropout_rate=0.5):\n",
        "        super(LSTMModel, self).__init__()\n",
        "        self.embedding = nn.Embedding(vocab_size, embedding_dim)\n",
        "        self.lstm = nn.LSTM(embedding_dim, hidden_dim, num_layers, batch_first=True, dropout=dropout_rate)\n",
        "        self.dropout = nn.Dropout(dropout_rate)\n",
        "        self.fc = nn.Linear(hidden_dim, vocab_size)\n",
        "\n",
        "    def forward(self, x):\n",
        "        x = self.embedding(x)\n",
        "        print(x.shape)\n",
        "        self.lstm.flatten_parameters()\n",
        "        out, (hidden, cell) = self.lstm(x)\n",
        "        print(out.shape, hidden.shape, cell.shape)\n",
        "        out = self.dropout(out)\n",
        "        print(out.shape)\n",
        "        out = self.fc(out)\n",
        "        print(out.shape)\n",
        "        return out"
      ],
      "metadata": {
        "id": "dkAtAP9ZOF2g"
      },
      "execution_count": null,
      "outputs": []
    },
    {
      "cell_type": "code",
      "source": [
        "VOCAB_SIZE = len(vocab)\n",
        "EMBEDDING_DIM = 100\n",
        "CONTEXT_SIZE = 5  # this is your n-gram size\n",
        "model = LSTMModel(VOCAB_SIZE+2, EMBEDDING_DIM, 50, 2)"
      ],
      "metadata": {
        "id": "8rOJDlL6OINu"
      },
      "execution_count": null,
      "outputs": []
    },
    {
      "cell_type": "code",
      "source": [
        "criterion = nn.NLLLoss()\n",
        "optimizer = torch.optim.AdamW(model.parameters(), lr=0.01, weight_decay=0.001)\n",
        "#optimizer = optim.SGD(model.parameters(), lr=0.001)\n",
        "\n",
        "device = torch.device('cuda' if torch.cuda.is_available() else 'cpu')\n",
        "model = model.to(device)"
      ],
      "metadata": {
        "id": "qwpyktqBOK38"
      },
      "execution_count": null,
      "outputs": []
    },
    {
      "cell_type": "code",
      "source": [
        "import torch.optim as optim\n",
        "\n",
        "criterion = nn.CrossEntropyLoss()\n",
        "optimizer = optim.Adam(model.parameters())\n",
        "min_val_loss = float('inf')\n",
        "patience = 10  # How many epochs with no improvement to validation loss to wait\n",
        "epochs_no_improve = 0\n",
        "\n",
        "\n",
        "num_epochs = 500\n",
        "train_losses = []\n",
        "test_losses = []\n",
        "\n",
        "def compute_loss(outputs, targets, pad_token_id):\n",
        "    criterion = nn.CrossEntropyLoss(reduction='none')\n",
        "    outputs = outputs.contiguous().view(-1, outputs.shape[-1]) # size becomes [32*39, 4721]\n",
        "    targets = targets.view(-1) # size becomes [32*39]\n",
        "\n",
        "    losses = criterion(outputs, targets)\n",
        "\n",
        "    mask = (targets != pad_token_id).float()  # mask size: (batch_size, seq_len)\n",
        "\n",
        "    losses = losses * mask  # Apply the mask to the loss\n",
        "\n",
        "    loss = losses.sum() / mask.sum()  # Calculate mean loss over non-padded tokens\n",
        "\n",
        "    return loss\n",
        "\n",
        "\n",
        "for epoch in range(num_epochs):\n",
        "    model.train()\n",
        "    train_loss = 0\n",
        "    for inputs, targets in train_dataloader:\n",
        "        inputs, targets = inputs.to(device), targets.to(device)\n",
        "\n",
        "        optimizer.zero_grad()\n",
        "\n",
        "        outputs = model(inputs)\n",
        "\n",
        "        # Compute the loss\n",
        "        loss = compute_loss(outputs, targets, token_to_idx[\"<PAD>\"])\n",
        "        loss.backward()\n",
        "\n",
        "        optimizer.step()\n",
        "\n",
        "        train_loss += loss.item()\n",
        "\n",
        "    train_losses.append(train_loss/len(train_dataloader))\n",
        "\n",
        "    model.eval()\n",
        "    test_loss = 0\n",
        "    with torch.no_grad():\n",
        "        for inputs, targets in test_dataloader:\n",
        "            inputs, targets = inputs.to(device), targets.to(device)\n",
        "            outputs = model(inputs)\n",
        "            loss = compute_loss(outputs, targets, VOCAB_SIZE+1)\n",
        "            test_loss += loss.item()\n",
        "    val_loss = test_loss/len(test_dataloader)\n",
        "    test_losses.append(val_loss)\n",
        "    print(f\"Epoch: {epoch}, Training Loss: {train_losses[-1]}, Test Loss: {test_losses[-1]}\")\n",
        "    if val_loss < min_val_loss:\n",
        "        min_val_loss = val_loss\n",
        "        epochs_no_improve = 0\n",
        "    else:\n",
        "        epochs_no_improve += 1\n",
        "        if epochs_no_improve == patience:\n",
        "          print('Early stopping!')\n",
        "          break\n",
        "\n",
        "\n"
      ],
      "metadata": {
        "id": "RG9652SMOMej"
      },
      "execution_count": null,
      "outputs": []
    },
    {
      "cell_type": "code",
      "source": [
        "idx_to_token = {idx: token for idx, token in enumerate(vocab)}\n",
        "import numpy as np\n",
        "def generate_text(model, seed, max_length=100):\n",
        "    tokens = [token_to_idx[x] for x in nltk.tokenize.word_tokenize(seed)]\n",
        "    model.eval()  # switch the model to evaluation mode\n",
        "    seed = torch.tensor(tokens).unsqueeze(0)  # add batch dimension\n",
        "    generated = tokens\n",
        "\n",
        "    with torch.no_grad():  # so we don't do backpropagation during the generation phase\n",
        "        for _ in range(max_length):\n",
        "            output = model(seed.to(device))\n",
        "            print(output.shape)\n",
        "            #print(output.shape)\n",
        "            next_word_probability = nn.functional.softmax(output[0][-1], dim=0).cpu().numpy()  # use softmax to convert the output to probability distrubtion\n",
        "            #print(\"prob\", next_word_probability.shape)\n",
        "            next_word = np.random.choice(range(len(next_word_probability)), p=next_word_probability)\n",
        "            generated += [next_word]\n",
        "            seed = torch.cat((seed, torch.tensor([[next_word]])), 1)\n",
        "    print(generated)\n",
        "    return \" \".join([idx_to_token[x] for x in generated])\n"
      ],
      "metadata": {
        "id": "2XRiewxPOO9e"
      },
      "execution_count": null,
      "outputs": []
    },
    {
      "cell_type": "code",
      "source": [
        "generate_text(model, \"Today is\", max_length=1)"
      ],
      "metadata": {
        "id": "-qIYTK8cOQ3q"
      },
      "execution_count": null,
      "outputs": []
    }
  ]
}