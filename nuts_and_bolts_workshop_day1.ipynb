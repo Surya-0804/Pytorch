{
  "nbformat": 4,
  "nbformat_minor": 0,
  "metadata": {
    "colab": {
      "provenance": [],
      "authorship_tag": "ABX9TyORze7UpczG880lhHM7Qezc",
      "include_colab_link": true
    },
    "kernelspec": {
      "name": "python3",
      "display_name": "Python 3"
    },
    "language_info": {
      "name": "python"
    }
  },
  "cells": [
    {
      "cell_type": "markdown",
      "metadata": {
        "id": "view-in-github",
        "colab_type": "text"
      },
      "source": [
        "<a href=\"https://colab.research.google.com/github/Surya-0804/Pytorch/blob/main/nuts_and_bolts_workshop_day1.ipynb\" target=\"_parent\"><img src=\"https://colab.research.google.com/assets/colab-badge.svg\" alt=\"Open In Colab\"/></a>"
      ]
    },
    {
      "cell_type": "code",
      "execution_count": null,
      "metadata": {
        "id": "g6g_X4yuA2bG"
      },
      "outputs": [],
      "source": [
        "import numpy as np"
      ]
    },
    {
      "cell_type": "code",
      "source": [
        "x=np.array([3,5,6,8,1])\n",
        "y=np.array([1,-1,1,-1,1])\n",
        "w=0\n",
        "b=0"
      ],
      "metadata": {
        "id": "r9aF9TeNA7O9"
      },
      "execution_count": null,
      "outputs": []
    },
    {
      "cell_type": "code",
      "source": [
        "for _ in range(25):\n",
        "  y_hat=np.sign(w*x+b)\n",
        "  correct=y==y_hat\n",
        "  for i in range(len(y)):\n",
        "    w+=(y[i]-y_hat[i])*x[i]\n",
        "    b+=(y[i]-y_hat[i])\n",
        "  print(correct)\n",
        "print(w,b,sep=\"\\n\")"
      ],
      "metadata": {
        "colab": {
          "base_uri": "https://localhost:8080/"
        },
        "id": "kPCT7y-SBHl1",
        "outputId": "496e7f3e-4f95-4be0-c645-537c44d5c843"
      },
      "execution_count": null,
      "outputs": [
        {
          "output_type": "stream",
          "name": "stdout",
          "text": [
            "[ True False  True False  True]\n",
            "[False  True False  True False]\n",
            "[ True  True False  True  True]\n",
            "[ True False  True False  True]\n",
            "[False  True False  True  True]\n",
            "[ True False  True  True  True]\n",
            "[False  True False  True  True]\n",
            "[ True False  True False  True]\n",
            "[False  True False  True  True]\n",
            "[ True False  True  True  True]\n",
            "[False  True False  True  True]\n",
            "[ True False  True False  True]\n",
            "[False  True False  True  True]\n",
            "[ True False  True  True  True]\n",
            "[False  True False  True  True]\n",
            "[ True False  True False  True]\n",
            "[False  True False  True  True]\n",
            "[ True False  True False  True]\n",
            "[False  True False  True  True]\n",
            "[ True  True False  True  True]\n",
            "[ True False  True False  True]\n",
            "[False  True False  True  True]\n",
            "[ True  True False  True  True]\n",
            "[ True False  True False  True]\n",
            "[False  True False  True  True]\n",
            "-5\n",
            "45\n"
          ]
        }
      ]
    },
    {
      "cell_type": "code",
      "source": [
        "!pip install torch -q"
      ],
      "metadata": {
        "colab": {
          "base_uri": "https://localhost:8080/"
        },
        "id": "pvH9HpTcU1Bo",
        "outputId": "99b5fe21-47c8-4201-f55b-fcff735c06fc"
      },
      "execution_count": null,
      "outputs": [
        {
          "output_type": "stream",
          "name": "stdout",
          "text": [
            "\u001b[2K     \u001b[90m━━━━━━━━━━━━━━━━━━━━━━━━━━━━━━━━━━━━━━━━\u001b[0m \u001b[32m21.3/21.3 MB\u001b[0m \u001b[31m50.2 MB/s\u001b[0m eta \u001b[36m0:00:00\u001b[0m\n",
            "\u001b[?25h"
          ]
        }
      ]
    },
    {
      "cell_type": "code",
      "source": [
        "import torch\n",
        "import torch.nn as nn\n",
        "import torch.optim as optim\n",
        "\n",
        "# Prepare the data\n",
        "X = torch.tensor([[0.5], [1.2], [2.1], [2.9], [1.5]], dtype=torch.float32)\n",
        "y = torch.tensor([[0], [0], [1], [1], [1]], dtype=torch.float32)\n",
        "\n",
        "# Define the model\n",
        "model = nn.Linear(1, 1)\n",
        "\n",
        "# Define the loss function and optimizer\n",
        "criterion = nn.BCEWithLogitsLoss()\n",
        "optimizer = optim.SGD(model.parameters(), lr=0.1)\n",
        "\n",
        "# Train the model\n",
        "num_epochs = 1000\n",
        "for epoch in range(num_epochs):\n",
        "    # Forward pass\n",
        "    outputs = model(X)\n",
        "    loss = criterion(outputs, y)\n",
        "\n",
        "    # Backward and optimize\n",
        "    optimizer.zero_grad()\n",
        "    loss.backward()\n",
        "    optimizer.step()\n",
        "\n",
        "    if (epoch+1) % 100 == 0:\n",
        "        print(f'Epoch [{epoch+1}/{num_epochs}], Loss: {loss.item():.4f}')\n",
        "\n",
        "# Test the model\n",
        "with torch.no_grad():\n",
        "    predicted = (model(X) > 0.5).float()\n",
        "    accuracy = (predicted == y).float().mean()\n",
        "    print(f'Accuracy: {accuracy.item():.4f}')\n"
      ],
      "metadata": {
        "colab": {
          "base_uri": "https://localhost:8080/"
        },
        "id": "E7NbrTMAVD3n",
        "outputId": "32929028-e859-4202-db34-8cc7eddd5453"
      },
      "execution_count": null,
      "outputs": [
        {
          "output_type": "stream",
          "name": "stdout",
          "text": [
            "Epoch [100/1000], Loss: 0.4760\n",
            "Epoch [200/1000], Loss: 0.3899\n",
            "Epoch [300/1000], Loss: 0.3389\n",
            "Epoch [400/1000], Loss: 0.3055\n",
            "Epoch [500/1000], Loss: 0.2820\n",
            "Epoch [600/1000], Loss: 0.2643\n",
            "Epoch [700/1000], Loss: 0.2504\n",
            "Epoch [800/1000], Loss: 0.2391\n",
            "Epoch [900/1000], Loss: 0.2297\n",
            "Epoch [1000/1000], Loss: 0.2217\n",
            "Accuracy: 1.0000\n"
          ]
        }
      ]
    }
  ]
}